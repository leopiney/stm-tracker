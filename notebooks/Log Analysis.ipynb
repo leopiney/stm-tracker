{
 "cells": [
  {
   "cell_type": "code",
   "execution_count": 12,
   "metadata": {
    "collapsed": false,
    "deletable": true,
    "editable": true
   },
   "outputs": [],
   "source": [
    "import gmaps\n",
    "import gmaps.datasets\n",
    "import json\n",
    "import pandas as pd\n",
    "import seaborn as sbs\n",
    "import sqlite3\n",
    "import ssl\n",
    "\n",
    "from datetime import datetime\n",
    "\n",
    "\n",
    "#\n",
    "# Get settings from .env.json file\n",
    "#\n",
    "with open('../.env.json') as f:\n",
    "    settings = json.load(f)\n",
    "\n",
    "# Your Google API key\n",
    "gmaps.configure(api_key=settings.get('GOOGLE_API_KEY'))\n",
    "\n",
    "# This restores the same behavior as before.\n",
    "ssl._create_default_https_context = ssl._create_unverified_context"
   ]
  },
  {
   "cell_type": "markdown",
   "metadata": {
    "deletable": true,
    "editable": true
   },
   "source": [
    "# Database connection\n",
    "\n",
    "Creates a connection to the SQLite database"
   ]
  },
  {
   "cell_type": "code",
   "execution_count": 2,
   "metadata": {
    "collapsed": true,
    "deletable": true,
    "editable": true
   },
   "outputs": [],
   "source": [
    "conn = sqlite3.connect('../data/LightSTM.db')"
   ]
  },
  {
   "cell_type": "code",
   "execution_count": 3,
   "metadata": {
    "collapsed": true,
    "deletable": true,
    "editable": true
   },
   "outputs": [],
   "source": [
    "df = pd.read_sql_query('select count(*) from log', conn)"
   ]
  },
  {
   "cell_type": "markdown",
   "metadata": {
    "deletable": true,
    "editable": true
   },
   "source": [
    "# Logs analysis\n",
    "\n",
    "Gets all the logs and perform analysis on them."
   ]
  },
  {
   "cell_type": "code",
   "execution_count": 4,
   "metadata": {
    "collapsed": false,
    "deletable": true,
    "editable": true
   },
   "outputs": [
    {
     "data": {
      "text/html": [
       "<div>\n",
       "<table border=\"1\" class=\"dataframe\">\n",
       "  <thead>\n",
       "    <tr style=\"text-align: right;\">\n",
       "      <th></th>\n",
       "      <th>id</th>\n",
       "      <th>line_id</th>\n",
       "      <th>unit_id</th>\n",
       "      <th>expected_time</th>\n",
       "      <th>route_id</th>\n",
       "      <th>latitude</th>\n",
       "      <th>longitude</th>\n",
       "      <th>timestamp</th>\n",
       "    </tr>\n",
       "  </thead>\n",
       "  <tbody>\n",
       "    <tr>\n",
       "      <th>1859</th>\n",
       "      <td>1860</td>\n",
       "      <td>27</td>\n",
       "      <td>11</td>\n",
       "      <td>12</td>\n",
       "      <td>491</td>\n",
       "      <td>-34.89882</td>\n",
       "      <td>-56.1583</td>\n",
       "      <td>1488671692</td>\n",
       "    </tr>\n",
       "  </tbody>\n",
       "</table>\n",
       "</div>"
      ],
      "text/plain": [
       "        id  line_id  unit_id  expected_time  route_id  latitude  longitude  \\\n",
       "1859  1860       27       11             12       491 -34.89882   -56.1583   \n",
       "\n",
       "       timestamp  \n",
       "1859  1488671692  "
      ]
     },
     "execution_count": 4,
     "metadata": {},
     "output_type": "execute_result"
    }
   ],
   "source": [
    "df = pd.read_sql_query('select * from log', conn)\n",
    "df.sample()"
   ]
  },
  {
   "cell_type": "code",
   "execution_count": 5,
   "metadata": {
    "collapsed": true,
    "deletable": true,
    "editable": true
   },
   "outputs": [],
   "source": [
    "def gmaps_heatmap(locations):\n",
    "    m = gmaps.Map()\n",
    "    m.add_layer(gmaps.heatmap_layer(locations))\n",
    "    return m"
   ]
  },
  {
   "cell_type": "code",
   "execution_count": 6,
   "metadata": {
    "collapsed": false,
    "deletable": true,
    "editable": true
   },
   "outputs": [
    {
     "data": {
      "application/vnd.jupyter.widget-view+json": {
       "model_id": "3c2626039a0345dd8ce671cd6b6127bc"
      }
     },
     "metadata": {},
     "output_type": "display_data"
    }
   ],
   "source": [
    "# load an array of (latitude, longitude) pairs\n",
    "locations = zip(df.latitude, df.longitude)\n",
    "gmaps_heatmap(locations)"
   ]
  },
  {
   "cell_type": "markdown",
   "metadata": {
    "collapsed": true,
    "deletable": true,
    "editable": true
   },
   "source": [
    "## Lines variants differentation\n",
    "\n",
    "Show the difference between the path of the bus going to the destination or origin"
   ]
  },
  {
   "cell_type": "code",
   "execution_count": 7,
   "metadata": {
    "collapsed": false,
    "deletable": true,
    "editable": true
   },
   "outputs": [],
   "source": [
    "df_going = pd.read_sql_query(\n",
    "    'select * from Log as l join BusLine as b on l.line_id = b.id where b.going = 1',\n",
    "    conn,\n",
    ")"
   ]
  },
  {
   "cell_type": "code",
   "execution_count": 8,
   "metadata": {
    "collapsed": false,
    "deletable": true,
    "editable": true
   },
   "outputs": [
    {
     "data": {
      "application/vnd.jupyter.widget-view+json": {
       "model_id": "3e1933c4209c4719a197a0cd9c59d5b0"
      }
     },
     "metadata": {},
     "output_type": "display_data"
    }
   ],
   "source": [
    "locations = zip(df_going.latitude, df_going.longitude)\n",
    "gmaps_heatmap(locations)"
   ]
  },
  {
   "cell_type": "code",
   "execution_count": 13,
   "metadata": {
    "collapsed": false,
    "deletable": true,
    "editable": true
   },
   "outputs": [],
   "source": [
    "df_going_back = pd.read_sql_query(\n",
    "    'select * from Log as l join BusLine as b on l.line_id = b.id where b.going = 0',\n",
    "    conn,\n",
    ")\n",
    "df_going_back.timestamp = df_going_back.timestamp.apply(lambda ts: datetime.utcfromtimestamp(ts))"
   ]
  },
  {
   "cell_type": "code",
   "execution_count": 14,
   "metadata": {
    "collapsed": false
   },
   "outputs": [
    {
     "data": {
      "text/plain": [
       "0      2017-03-04 19:31:41\n",
       "1      2017-03-04 19:31:41\n",
       "2      2017-03-04 19:31:41\n",
       "3      2017-03-04 19:31:41\n",
       "4      2017-03-04 19:31:42\n",
       "5      2017-03-04 19:31:42\n",
       "6      2017-03-04 19:31:47\n",
       "7      2017-03-04 19:31:47\n",
       "8      2017-03-04 19:31:47\n",
       "9      2017-03-04 19:31:48\n",
       "10     2017-03-04 19:31:54\n",
       "11     2017-03-04 19:31:54\n",
       "12     2017-03-04 19:31:56\n",
       "13     2017-03-04 19:31:57\n",
       "14     2017-03-04 19:31:58\n",
       "15     2017-03-04 19:32:02\n",
       "16     2017-03-04 19:32:04\n",
       "17     2017-03-04 19:32:05\n",
       "18     2017-03-04 20:46:26\n",
       "19     2017-03-04 20:46:26\n",
       "20     2017-03-04 20:46:26\n",
       "21     2017-03-04 20:46:26\n",
       "22     2017-03-04 20:46:27\n",
       "23     2017-03-04 20:46:27\n",
       "24     2017-03-04 20:46:31\n",
       "25     2017-03-04 20:46:31\n",
       "26     2017-03-04 20:46:31\n",
       "27     2017-03-04 20:46:31\n",
       "28     2017-03-04 20:46:40\n",
       "29     2017-03-04 20:46:42\n",
       "               ...        \n",
       "6801   2017-03-05 22:37:23\n",
       "6802   2017-03-05 22:37:39\n",
       "6803   2017-03-05 22:37:42\n",
       "6804   2017-03-05 22:38:07\n",
       "6805   2017-03-05 22:38:08\n",
       "6806   2017-03-05 22:38:11\n",
       "6807   2017-03-05 22:38:14\n",
       "6808   2017-03-05 22:38:24\n",
       "6809   2017-03-05 22:39:06\n",
       "6810   2017-03-05 22:39:06\n",
       "6811   2017-03-05 22:39:21\n",
       "6812   2017-03-05 22:39:23\n",
       "6813   2017-03-05 22:39:56\n",
       "6814   2017-03-05 22:40:11\n",
       "6815   2017-03-05 22:40:20\n",
       "6816   2017-03-05 22:40:58\n",
       "6817   2017-03-05 22:41:00\n",
       "6818   2017-03-05 22:41:11\n",
       "6819   2017-03-05 22:41:53\n",
       "6820   2017-03-05 22:42:00\n",
       "6821   2017-03-05 22:42:07\n",
       "6822   2017-03-05 22:42:17\n",
       "6823   2017-03-05 22:42:24\n",
       "6824   2017-03-05 22:42:37\n",
       "6825   2017-03-05 22:42:55\n",
       "6826   2017-03-05 22:43:07\n",
       "6827   2017-03-05 22:43:24\n",
       "6828   2017-03-05 22:43:24\n",
       "6829   2017-03-05 22:43:37\n",
       "6830   2017-03-05 22:43:38\n",
       "Name: timestamp, dtype: datetime64[ns]"
      ]
     },
     "execution_count": 14,
     "metadata": {},
     "output_type": "execute_result"
    }
   ],
   "source": [
    "df_going_back.timestamp"
   ]
  },
  {
   "cell_type": "code",
   "execution_count": 10,
   "metadata": {
    "collapsed": false,
    "deletable": true,
    "editable": true
   },
   "outputs": [
    {
     "data": {
      "application/vnd.jupyter.widget-view+json": {
       "model_id": "6a4c3fd9c77b4d0489b5a517905f599f"
      }
     },
     "metadata": {},
     "output_type": "display_data"
    }
   ],
   "source": [
    "locations = zip(df_going_back.latitude, df_going_back.longitude)\n",
    "gmaps_heatmap(locations)"
   ]
  },
  {
   "cell_type": "code",
   "execution_count": null,
   "metadata": {
    "collapsed": true,
    "deletable": true,
    "editable": true
   },
   "outputs": [],
   "source": []
  }
 ],
 "metadata": {
  "kernelspec": {
   "display_name": "Python 3",
   "language": "python",
   "name": "python3"
  },
  "language_info": {
   "codemirror_mode": {
    "name": "ipython",
    "version": 3
   },
   "file_extension": ".py",
   "mimetype": "text/x-python",
   "name": "python",
   "nbconvert_exporter": "python",
   "pygments_lexer": "ipython3",
   "version": "3.6.0"
  }
 },
 "nbformat": 4,
 "nbformat_minor": 2
}
